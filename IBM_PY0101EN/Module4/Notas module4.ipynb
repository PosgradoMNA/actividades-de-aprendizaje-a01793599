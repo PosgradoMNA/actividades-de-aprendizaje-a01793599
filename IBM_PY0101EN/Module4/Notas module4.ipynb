{
 "cells": [
  {
   "cell_type": "markdown",
   "metadata": {},
   "source": [
    "# Instituto Tecnológico de Monterrey\n",
    "# Ciencia y analítica de datos\n",
    "# A01793599 Gustavo René Ramos Ojeda\n",
    "\n",
    "# Módulo 4 - Notas del alumno"
   ]
  },
  {
   "cell_type": "markdown",
   "metadata": {},
   "source": [
    "Notas para las actividades del módulo 4\n",
    "\n",
    "1. El primer ejercicio sobre ReadingFiles no fue complejo, una buena práctica con With, buena práctica sobre Readline para leer por fila, pero lo que más ayuda es sin duda mover el contenido a una lista y cerrar el archivo, con eso puedes trabajar offline el contenido con indices por línea.\n",
    "\n",
    "2. El ejercicio de writing files lo hice con listas y eliminando el archivo de inicio, sin embargo al final fue más simple escribir al principio y truncar el resto, el problema principal se debió a no almacenar el header.\n",
    "\n",
    "3. Respecto a los ejercicios de dataframe es interesante el tema del slicing sobre los datos e incluso el uso de operadores para poder sacar subsets de datos de los dataframes\n",
    "\n",
    "4. Las funciones de loc e iloc están bien aunque sí requieren algo de práctica, son intuitivas pero si requieren una buena comprensión de los niveles de la información."
   ]
  }
 ],
 "metadata": {
  "kernelspec": {
   "display_name": "Python 3.10.4 64-bit",
   "language": "python",
   "name": "python3"
  },
  "language_info": {
   "name": "python",
   "version": "3.10.4"
  },
  "orig_nbformat": 4,
  "vscode": {
   "interpreter": {
    "hash": "dbf227170861aa35de2ea8c890cc2cfec69ae9586cdab632ac506279a0aac556"
   }
  }
 },
 "nbformat": 4,
 "nbformat_minor": 2
}
