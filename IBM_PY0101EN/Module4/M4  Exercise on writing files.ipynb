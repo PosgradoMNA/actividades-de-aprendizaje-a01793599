{
 "cells": [
  {
   "cell_type": "markdown",
   "metadata": {},
   "source": [
    "# Instituto Tecnológico de Monterrey\n",
    "# Ciencia y analítica de datos\n",
    "# A01793599 Gustavo René Ramos Ojeda\n",
    "\n",
    "# Módulo 4 - Exercise on writing files"
   ]
  },
  {
   "cell_type": "code",
   "execution_count": 35,
   "metadata": {},
   "outputs": [],
   "source": [
    "## LETS EXECUTE AS IT'S TOLD ON THE BEGGINING\n",
    "\n",
    "#Run this prior to starting the exercise\n",
    "from random import randint as rnd\n",
    "\n",
    "memReg = 'members.txt'\n",
    "exReg = 'inactive.txt'\n",
    "fee =('yes','no')\n",
    "\n",
    "def genFiles(current,old):\n",
    "    with open(current,'w+') as writefile: \n",
    "        writefile.write('Membership No  Date Joined  Active  \\n')\n",
    "        data = \"{:^13}  {:<11}  {:<6}\\n\"\n",
    "\n",
    "        for rowno in range(20):\n",
    "            date = str(rnd(2015,2020))+ '-' + str(rnd(1,12))+'-'+str(rnd(1,25))\n",
    "            writefile.write(data.format(rnd(10000,99999),date,fee[rnd(0,1)]))\n",
    "\n",
    "\n",
    "    with open(old,'w+') as writefile: \n",
    "        writefile.write('Membership No  Date Joined  Active  \\n')\n",
    "        data = \"{:^13}  {:<11}  {:<6}\\n\"\n",
    "        for rowno in range(3):\n",
    "            date = str(rnd(2015,2020))+ '-' + str(rnd(1,12))+'-'+str(rnd(1,25))\n",
    "            writefile.write(data.format(rnd(10000,99999),date,fee[1]))\n",
    "\n",
    "\n",
    "genFiles(memReg,exReg)"
   ]
  },
  {
   "cell_type": "markdown",
   "metadata": {},
   "source": [
    "The files inactive.txt and members.txt has been added to the folder"
   ]
  },
  {
   "cell_type": "code",
   "execution_count": 36,
   "metadata": {},
   "outputs": [
    {
     "name": "stdout",
     "output_type": "stream",
     "text": [
      "Active Members: \n",
      "\n",
      "\n",
      "Membership No  Date Joined  Active  \n",
      "    42668      2020-7-21    yes   \n",
      "    69748      2017-8-6     yes   \n",
      "    78640      2015-5-22    yes   \n",
      "    55357      2019-5-17    yes   \n",
      "    87025      2019-8-18    yes   \n",
      "    51229      2019-12-5    yes   \n",
      "    78886      2020-1-12    yes   \n",
      "    14884      2016-11-4    yes   \n",
      "    92992      2020-8-4     yes   \n",
      "    38855      2017-9-23    yes   \n",
      "    98303      2019-3-5     yes   \n",
      "    36785      2018-8-9     yes   \n",
      "\n",
      "Inactive Members: \n",
      "\n",
      "\n",
      "Membership No  Date Joined  Active  \n",
      "    89386      2016-1-20    no    \n",
      "    23539      2019-4-2     no    \n",
      "    25809      2016-9-4     no    \n",
      "    20044      2020-12-10   no    \n",
      "    99568      2019-4-18    no    \n",
      "    70017      2016-6-8     no    \n",
      "    12463      2016-9-17    no    \n",
      "    17785      2019-5-3     no    \n",
      "    60560      2017-5-1     no    \n",
      "    26103      2015-1-18    no    \n",
      "    64508      2019-12-1    no    \n",
      "\n"
     ]
    }
   ],
   "source": [
    "'''\n",
    "The two arguments for this function are the files:\n",
    "    - currentMem: File containing list of current members\n",
    "    - exMem: File containing list of old members\n",
    "    \n",
    "    This function should remove all rows from currentMem containing 'no' \n",
    "    in the 'Active' column and appends them to exMem.\n",
    "    '''\n",
    "\n",
    "from typing import List\n",
    "\n",
    "\n",
    "def cleanFiles(currentMem, exMem):\n",
    "    header = \"\"\n",
    "    newMemLines = []\n",
    "    with open(currentMem, 'r+') as currentMemAsRPlus:\n",
    "        with open(exMem, 'a+') as exMemAsRPlus:        \n",
    "            currentMemLines = currentMemAsRPlus.readlines()\n",
    "            header = currentMemLines[0]\n",
    "            for i in range (1, len( currentMemLines )):\n",
    "                if currentMemLines[i].__contains__(\"no\"):\n",
    "                    exMemAsRPlus.write( currentMemLines[i] )\n",
    "                else:    \n",
    "                    newMemLines.append( currentMemLines[i] )\n",
    "        # Look for the first position, write all, then truncate the rest\n",
    "        currentMemAsRPlus.seek(0)\n",
    "        currentMemAsRPlus.write(header )\n",
    "        currentMemAsRPlus.writelines( newMemLines )  \n",
    "        currentMemAsRPlus.truncate() \n",
    "\n",
    "\n",
    "\n",
    "\n",
    "# The code below is to help you view the files.\n",
    "# Do not modify this code for this exercise.\n",
    "memReg = 'members.txt'\n",
    "exReg = 'inactive.txt'\n",
    "cleanFiles(memReg,exReg)\n",
    "\n",
    "\n",
    "headers = \"Membership No  Date Joined  Active  \\n\"\n",
    "with open(memReg,'r') as readFile:\n",
    "    print(\"Active Members: \\n\\n\")\n",
    "    print(readFile.read())\n",
    "    \n",
    "with open(exReg,'r') as readFile:\n",
    "    print(\"Inactive Members: \\n\\n\")\n",
    "    print(readFile.read())\n",
    "                "
   ]
  },
  {
   "cell_type": "code",
   "execution_count": 37,
   "metadata": {},
   "outputs": [
    {
     "name": "stdout",
     "output_type": "stream",
     "text": [
      "Test Passed\n"
     ]
    }
   ],
   "source": [
    "def testMsg(passed):\n",
    "    if passed:\n",
    "       return 'Test Passed'\n",
    "    else :\n",
    "       return 'Test Failed'\n",
    "\n",
    "testWrite = \"testWrite.txt\"\n",
    "testAppend = \"testAppend.txt\" \n",
    "passed = True\n",
    "\n",
    "genFiles(testWrite,testAppend)\n",
    "\n",
    "with open(testWrite,'r') as file:\n",
    "    ogWrite = file.readlines()\n",
    "\n",
    "with open(testAppend,'r') as file:\n",
    "    ogAppend = file.readlines()\n",
    "\n",
    "try:\n",
    "    cleanFiles(testWrite,testAppend)\n",
    "except:\n",
    "    print('Error')\n",
    "\n",
    "with open(testWrite,'r') as file:\n",
    "    clWrite = file.readlines()\n",
    "\n",
    "with open(testAppend,'r') as file:\n",
    "    clAppend = file.readlines()\n",
    "        \n",
    "# checking if total no of rows is same, including headers\n",
    "\n",
    "if (len(ogWrite) + len(ogAppend) != len(clWrite) + len(clAppend)):\n",
    "    print(\"The number of rows do not add up. Make sure your final files have the same header and format.\")\n",
    "    passed = False\n",
    "    \n",
    "for line in clWrite:\n",
    "    if  'no' in line:\n",
    "        passed = False\n",
    "        print(\"Inactive members in file\")\n",
    "        break\n",
    "    else:\n",
    "        if line not in ogWrite:\n",
    "            print(\"Data in file does not match original file\")\n",
    "            passed = False\n",
    "print (\"{}\".format(testMsg(passed)))\n",
    "    "
   ]
  }
 ],
 "metadata": {
  "kernelspec": {
   "display_name": "Python 3.10.4 64-bit",
   "language": "python",
   "name": "python3"
  },
  "language_info": {
   "codemirror_mode": {
    "name": "ipython",
    "version": 3
   },
   "file_extension": ".py",
   "mimetype": "text/x-python",
   "name": "python",
   "nbconvert_exporter": "python",
   "pygments_lexer": "ipython3",
   "version": "3.10.4"
  },
  "orig_nbformat": 4,
  "vscode": {
   "interpreter": {
    "hash": "dbf227170861aa35de2ea8c890cc2cfec69ae9586cdab632ac506279a0aac556"
   }
  }
 },
 "nbformat": 4,
 "nbformat_minor": 2
}
