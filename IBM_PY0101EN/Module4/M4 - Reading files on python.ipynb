{
 "cells": [
  {
   "cell_type": "markdown",
   "metadata": {},
   "source": [
    "# Instituto Tecnológico de Monterrey\n",
    "# Ciencia y analítica de datos\n",
    "# A01793599 Gustavo René Ramos Ojeda\n",
    "\n",
    "# Módulo 4 - Reading files on Python"
   ]
  },
  {
   "cell_type": "code",
   "execution_count": 2,
   "metadata": {},
   "outputs": [
    {
     "data": {
      "text/plain": [
       "('Example1.txt', <http.client.HTTPMessage at 0x231cca83850>)"
      ]
     },
     "execution_count": 2,
     "metadata": {},
     "output_type": "execute_result"
    }
   ],
   "source": [
    "# Download data\n",
    "\n",
    "## Uncomment these if working locally, else let the following code cell run.\n",
    "\n",
    "# A01793599 - GUS RAMOS - SE VA A TRABAJAR CON EL ARCHIVO LOCAL\n",
    "\n",
    "import urllib.request\n",
    "url = 'https://cf-courses-data.s3.us.cloud-object-storage.appdomain.cloud/IBMDeveloperSkillsNetwork-PY0101EN-SkillsNetwork/labs/Module%204/data/example1.txt'\n",
    "filename = 'Example1.txt'\n",
    "urllib.request.urlretrieve(url, filename)\n",
    "\n",
    "## Download Example file\n",
    "# !wget -O /resources/data/Example1.txt https://cf-courses-data.s3.us.cloud-object-storage.appdomain.cloud/IBMDeveloperSkillsNetwork-PY0101EN-SkillsNetwork/labs/Module%204/data/example1.txt"
   ]
  },
  {
   "cell_type": "code",
   "execution_count": 8,
   "metadata": {},
   "outputs": [
    {
     "name": "stdout",
     "output_type": "stream",
     "text": [
      "File name:  Example1.txt\n",
      "File mode:  r\n",
      "File content: \n",
      " This is line 1 \n",
      "This is line 2\n",
      "This is line 3\n",
      "File content type:  <class 'str'>\n",
      "Is file closed:  True\n"
     ]
    }
   ],
   "source": [
    "# Reading text files\n",
    "\n",
    "example1 = \"Example1.txt\"\n",
    "file1 = open(example1, \"r\")\n",
    "\n",
    "#Print filename\n",
    "print( \"File name: \", file1.name )\n",
    "\n",
    "#Print opening mode\n",
    "print( \"File mode: \", file1.mode )\n",
    "\n",
    "#Read and print the file content\n",
    "fileContent = file1.read()\n",
    "print( \"File content: \\n\", fileContent )\n",
    "\n",
    "print(\"File content type: \", type(fileContent))\n",
    "\n",
    "#Close the file\n",
    "file1.close()\n",
    "print( \"Is file closed: \", file1.closed)\n",
    "\n",
    " "
   ]
  },
  {
   "cell_type": "code",
   "execution_count": 12,
   "metadata": {},
   "outputs": [
    {
     "name": "stdout",
     "output_type": "stream",
     "text": [
      "File content: \n",
      " This is line 1 \n",
      "This is line 2\n",
      "This is line 3\n",
      "Is file closed:  True\n",
      "Printing 10 characters:  This is li\n",
      "Printing 3 characters:  Thi\n",
      "Printing 6 characters:  s is l\n",
      "Printing 11 characters:  ine 1 \n",
      "This\n",
      "Printing 15 characters:   is line 2\n",
      "This\n"
     ]
    }
   ],
   "source": [
    "# Another way (Better) to open a file\n",
    "\n",
    "with open(example1, \"r\") as file1:\n",
    "    fileContent = file1.read()\n",
    "    print( \"File content: \\n\", fileContent )\n",
    "print( \"Is file closed: \", file1.closed)\n",
    "\n",
    "\n",
    "# Now printing just ten characters\n",
    "with open(example1, \"r\") as file1:\n",
    "    print(\"Printing 10 characters: \", file1.read(10))\n",
    "\n",
    "\n",
    "# Now reaading a different amount each line\n",
    "with open(example1, \"r\") as file1:\n",
    "    print(\"Printing 3 characters: \", file1.read(3))\n",
    "    print(\"Printing 6 characters: \", file1.read(6))\n",
    "    print(\"Printing 11 characters: \", file1.read(11))\n",
    "    print(\"Printing 15 characters: \", file1.read(15))"
   ]
  },
  {
   "cell_type": "code",
   "execution_count": 20,
   "metadata": {},
   "outputs": [
    {
     "name": "stdout",
     "output_type": "stream",
     "text": [
      "Printing first line: \n",
      " This is line 1 \n",
      "\n",
      "\n",
      "\n",
      "Just 20 no end of line: \n",
      " This is line 1 \n",
      "\n",
      "Just 20 no matter what: \n",
      " This is line 2\n",
      "This \n",
      "\n",
      "\n",
      "Iteration : # 0 :  This is line 1 \n",
      "\n",
      "Iteration : # 1 :  This is line 2\n",
      "\n",
      "Iteration : # 2 :  This is line 3\n",
      "\n",
      "\n",
      "Next line in loop: This is line 1 \n",
      "\n",
      "Next line in loop: This is line 2\n",
      "\n",
      "Next line in loop: This is line 3\n"
     ]
    }
   ],
   "source": [
    "#Just another section for Readline\n",
    "\n",
    "#Reading the first line\n",
    "with open(example1, \"r\") as file1:\n",
    "    print(\"Printing first line: \\n\", file1.readline())\n",
    "print(\"\\n\")\n",
    "\n",
    "#Reading 20 chars but not getting something after 20 chars\n",
    "with open(example1, \"r\") as file1:\n",
    "    print(\"Just 20 no end of line: \\n\", file1.readline(20))\n",
    "    #Reading 20 chars no matter end of line\n",
    "    print(\"Just 20 no matter what: \\n\", file1.read(20))\n",
    "print(\"\\n\")\n",
    "\n",
    "#Using a loop to iterate\n",
    "with open(example1, \"r\") as file1:\n",
    "        i = 0\n",
    "        for line in file1:\n",
    "            print(\"Iteration : #\", i, \": \", line)\n",
    "            i = i + 1\n",
    "print(\"\\n\")\n",
    "\n",
    "# Sending content to a list\n",
    "\n",
    "with open(example1, \"r\") as file1:\n",
    "    FileasList = file1.readlines()\n",
    "\n",
    "for line in FileasList:\n",
    "    print( \"Next line in loop: \" + line )"
   ]
  }
 ],
 "metadata": {
  "kernelspec": {
   "display_name": "Python 3.10.4 64-bit",
   "language": "python",
   "name": "python3"
  },
  "language_info": {
   "codemirror_mode": {
    "name": "ipython",
    "version": 3
   },
   "file_extension": ".py",
   "mimetype": "text/x-python",
   "name": "python",
   "nbconvert_exporter": "python",
   "pygments_lexer": "ipython3",
   "version": "3.10.4"
  },
  "orig_nbformat": 4,
  "vscode": {
   "interpreter": {
    "hash": "dbf227170861aa35de2ea8c890cc2cfec69ae9586cdab632ac506279a0aac556"
   }
  }
 },
 "nbformat": 4,
 "nbformat_minor": 2
}
