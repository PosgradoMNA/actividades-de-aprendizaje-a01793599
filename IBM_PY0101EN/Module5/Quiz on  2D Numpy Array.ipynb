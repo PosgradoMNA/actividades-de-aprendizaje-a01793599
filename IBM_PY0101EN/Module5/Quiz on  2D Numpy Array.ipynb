{
 "cells": [
  {
   "cell_type": "markdown",
   "metadata": {},
   "source": [
    "# Instituto Tecnológico de Monterrey\n",
    "# Ciencia y analítica de datos\n",
    "# A01793599 Gustavo René Ramos Ojeda\n",
    "\n",
    "# Módulo 5 - Quiz on 2D Numpy Array"
   ]
  },
  {
   "cell_type": "code",
   "execution_count": 1,
   "metadata": {},
   "outputs": [
    {
     "name": "stdout",
     "output_type": "stream",
     "text": [
      "[[ 1  2  3  4]\n",
      " [ 5  6  7  8]\n",
      " [ 9 10 11 12]]\n"
     ]
    }
   ],
   "source": [
    "# A01793599 - GUSRAMOS -- CONVERTIR A ARREGLOS NUMPY\n",
    "\n",
    "import numpy as np\n",
    "\n",
    "a = [[1, 2, 3, 4], [5, 6, 7, 8], [9, 10, 11, 12]]\n",
    "\n",
    "arrayA = np.array(a)\n",
    "\n",
    "print( arrayA )"
   ]
  },
  {
   "cell_type": "code",
   "execution_count": 2,
   "metadata": {},
   "outputs": [
    {
     "name": "stdout",
     "output_type": "stream",
     "text": [
      "12\n"
     ]
    }
   ],
   "source": [
    "# A01793599 - GUSRAMOS -- CALCULAR TAMAÑO   \n",
    "\n",
    "print( arrayA.size )"
   ]
  },
  {
   "cell_type": "code",
   "execution_count": 4,
   "metadata": {},
   "outputs": [
    {
     "name": "stdout",
     "output_type": "stream",
     "text": [
      "[1 2]\n"
     ]
    }
   ],
   "source": [
    "# A01793599 - GUSRAMOS -- ACCEDER FIRST ROW AND FIRST AND SECOND COLUMNS\n",
    "\n",
    "print( arrayA[0][ 0:2] )"
   ]
  },
  {
   "cell_type": "code",
   "execution_count": 6,
   "metadata": {},
   "outputs": [
    {
     "name": "stdout",
     "output_type": "stream",
     "text": [
      "[[ 1  4]\n",
      " [ 5 12]\n",
      " [ 9 20]]\n"
     ]
    }
   ],
   "source": [
    "# A01793599 - GUSRAMOS -- multiplicación de matriz\n",
    "\n",
    "\n",
    "arrayB = np.array([[0, 1], [1, 0], [1, 1], [-1, 0]])\n",
    "\n",
    "print( np.dot( arrayA, arrayB ) )"
   ]
  }
 ],
 "metadata": {
  "kernelspec": {
   "display_name": "Python 3.10.4 64-bit",
   "language": "python",
   "name": "python3"
  },
  "language_info": {
   "codemirror_mode": {
    "name": "ipython",
    "version": 3
   },
   "file_extension": ".py",
   "mimetype": "text/x-python",
   "name": "python",
   "nbconvert_exporter": "python",
   "pygments_lexer": "ipython3",
   "version": "3.10.4"
  },
  "orig_nbformat": 4,
  "vscode": {
   "interpreter": {
    "hash": "dbf227170861aa35de2ea8c890cc2cfec69ae9586cdab632ac506279a0aac556"
   }
  }
 },
 "nbformat": 4,
 "nbformat_minor": 2
}
