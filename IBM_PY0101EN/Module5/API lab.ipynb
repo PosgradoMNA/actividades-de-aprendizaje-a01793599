{
 "cells": [
  {
   "cell_type": "code",
   "execution_count": 1,
   "metadata": {},
   "outputs": [
    {
     "name": "stdout",
     "output_type": "stream",
     "text": [
      "https://randomuser.me/api/portraits/men/67.jpg\n",
      "https://randomuser.me/api/portraits/men/37.jpg\n",
      "https://randomuser.me/api/portraits/women/52.jpg\n",
      "https://randomuser.me/api/portraits/women/66.jpg\n",
      "https://randomuser.me/api/portraits/men/95.jpg\n"
     ]
    }
   ],
   "source": [
    "from randomuser import RandomUser\n",
    "import pandas as pd\n",
    "\n",
    "r = RandomUser()\n",
    "\n",
    "# GENERATING 5 USERS\n",
    "some_list = r.generate_users(5)\n",
    "\n",
    "# GENERATING 10 PHOTOS\n",
    "for user in some_list:\n",
    "    print (user.get_picture())\n"
   ]
  },
  {
   "cell_type": "code",
   "execution_count": 5,
   "metadata": {},
   "outputs": [
    {
     "name": "stdout",
     "output_type": "stream",
     "text": [
      "                Name  Gender                  City             State  \\\n",
      "0     Redmar De Baar    male              Harskamp         Groningen   \n",
      "1    Estéban Lecomte    male              Toulouse      Val-de-Marne   \n",
      "2          Etta Rupp  female      Riesa-Großenhain           Sachsen   \n",
      "3  Glenda Montgomery  female            Kalgoorlie   New South Wales   \n",
      "4     Alfred Holland    male                Mobile          Kentucky   \n",
      "5     Patric Lecomte    male  Romanel-sur-Lausanne  Basel-Landschaft   \n",
      "6     Herman Perkins    male            Hervey Bay          Tasmania   \n",
      "7       Angel Gibson    male             Stevenage            Durham   \n",
      "8       Niilo Sakala    male            Lapinlahti     North Karelia   \n",
      "9        Romana Melo  female             Guarapari           Paraíba   \n",
      "\n",
      "                           Email                       DOB  \\\n",
      "0      redmar.debaar@example.com  1996-11-20T00:45:05.580Z   \n",
      "1    esteban.lecomte@example.com  1990-07-04T11:30:37.159Z   \n",
      "2          etta.rupp@example.com  1983-12-13T22:03:20.840Z   \n",
      "3  glenda.montgomery@example.com  1958-08-02T10:09:12.910Z   \n",
      "4     alfred.holland@example.com  1991-03-18T20:04:27.005Z   \n",
      "5     patric.lecomte@example.com  1977-11-02T03:32:54.506Z   \n",
      "6     herman.perkins@example.com  1957-07-28T07:45:34.171Z   \n",
      "7       angel.gibson@example.com  1954-10-05T04:49:56.693Z   \n",
      "8       niilo.sakala@example.com  1989-03-01T06:03:48.391Z   \n",
      "9        romana.melo@example.com  1946-08-30T16:54:21.157Z   \n",
      "\n",
      "                                            Picture  \n",
      "0    https://randomuser.me/api/portraits/men/34.jpg  \n",
      "1    https://randomuser.me/api/portraits/men/13.jpg  \n",
      "2  https://randomuser.me/api/portraits/women/16.jpg  \n",
      "3  https://randomuser.me/api/portraits/women/27.jpg  \n",
      "4    https://randomuser.me/api/portraits/men/49.jpg  \n",
      "5     https://randomuser.me/api/portraits/men/4.jpg  \n",
      "6    https://randomuser.me/api/portraits/men/36.jpg  \n",
      "7    https://randomuser.me/api/portraits/men/11.jpg  \n",
      "8    https://randomuser.me/api/portraits/men/35.jpg  \n",
      "9  https://randomuser.me/api/portraits/women/66.jpg  \n"
     ]
    }
   ],
   "source": [
    "# GENERATING A PANDA DATAFRAME WITH USERS\n",
    "def get_users():\n",
    "    users =[]\n",
    "     \n",
    "    for user in RandomUser.generate_users(10):\n",
    "        users.append({\"Name\":user.get_full_name(),\"Gender\":user.get_gender(),\"City\":user.get_city(),\"State\":user.get_state(),\"Email\":user.get_email(), \"DOB\":user.get_dob(),\"Picture\":user.get_picture()})\n",
    "      \n",
    "    return pd.DataFrame(users)     \n",
    "\n",
    "\n",
    "print(get_users())"
   ]
  },
  {
   "cell_type": "markdown",
   "metadata": {},
   "source": [
    "EXAMPLE 2 WITH FRUITVICE API"
   ]
  },
  {
   "cell_type": "code",
   "execution_count": 9,
   "metadata": {},
   "outputs": [
    {
     "name": "stdout",
     "output_type": "stream",
     "text": [
      "         genus          name  id           family             order  \\\n",
      "0        Malus         Apple   6         Rosaceae           Rosales   \n",
      "1       Prunus       Apricot  35         Rosaceae           Rosales   \n",
      "2         Musa        Banana   1         Musaceae      Zingiberales   \n",
      "3        Rubus    Blackberry  64         Rosaceae           Rosales   \n",
      "4     Fragaria     Blueberry  33         Rosaceae           Rosales   \n",
      "5       Prunus        Cherry   9         Rosaceae              None   \n",
      "6        Durio        Durian  60        Malvaceae          Malvales   \n",
      "7        Ficus           Fig  68         Moraceae           Rosales   \n",
      "8        Ribes    Gooseberry  69  Grossulariaceae      Saxifragales   \n",
      "9        Vitis        Grapes  47         Vitaceae           Vitales   \n",
      "10       Malus    GreenApple  72         Rosaceae           Rosales   \n",
      "11     Psidium         Guava  37        Myrtaceae          Myrtales   \n",
      "12     Apteryx          Kiwi  66    Actinidiaceae  Struthioniformes   \n",
      "13      Citrus         Lemon  26         Rutaceae        Sapindales   \n",
      "14      Citrus          Lime  44         Rutaceae        Sapindales   \n",
      "15   Vaccinium   Lingonberry  65        Ericaceae          Ericales   \n",
      "16      Litchi        Lychee  67      Sapindaceae        Sapindales   \n",
      "17   Mangifera         Mango  27    Anacardiaceae        Sapindales   \n",
      "18     Cucumis         Melon  41    Cucurbitaceae     Cucurbitaceae   \n",
      "19      Citrus        Orange   2         Rutaceae        Sapindales   \n",
      "20      Carica        Papaya  42       Caricaceae         Caricacea   \n",
      "21  Passiflora  Passionfruit  70   Passifloraceae      Malpighiales   \n",
      "22       Pyrus          Pear   4         Rosaceae           Rosales   \n",
      "23   Diospyros     Persimmon  52        Ebenaceae           Rosales   \n",
      "24      Ananas     Pineapple  10     Bromeliaceae            Poales   \n",
      "25      Prunus          Plum  71         Rosaceae           Rosales   \n",
      "26       Rubus     Raspberry  23         Rosaceae           Rosales   \n",
      "27    Fragaria    Strawberry   3         Rosaceae           Rosales   \n",
      "28     Solanum        Tomato   5       Solanaceae         Solanales   \n",
      "29    Spondias          Umbu  73    Anacardiaceae                 0   \n",
      "30   Citrullus    Watermelon  25    Cucurbitaceae      Cucurbitales   \n",
      "\n",
      "    nutritions.carbohydrates  nutritions.protein  nutritions.fat  \\\n",
      "0                      11.40                0.30            0.40   \n",
      "1                       3.90                0.50            0.10   \n",
      "2                      22.00                1.00            0.20   \n",
      "3                       9.00                1.30            0.40   \n",
      "4                       5.50                0.00            0.40   \n",
      "5                      12.00                1.00            0.30   \n",
      "6                      27.10                1.50            5.30   \n",
      "7                      19.00                0.80            0.30   \n",
      "8                      10.00                0.90            0.60   \n",
      "9                      18.10                0.72            0.16   \n",
      "10                      3.10                0.40            0.10   \n",
      "11                     14.00                2.60            1.00   \n",
      "12                     15.00                1.10            0.50   \n",
      "13                      9.00                1.10            0.30   \n",
      "14                      8.40                0.30            0.10   \n",
      "15                     11.30                0.75            0.34   \n",
      "16                     17.00                0.80            0.44   \n",
      "17                     15.00                0.82            0.38   \n",
      "18                      8.00                0.00            0.00   \n",
      "19                      8.30                1.00            0.20   \n",
      "20                     11.00                0.00            0.40   \n",
      "21                     22.40                2.20            0.70   \n",
      "22                     15.00                0.40            0.10   \n",
      "23                     18.00                0.00            0.00   \n",
      "24                     13.12                0.54            0.12   \n",
      "25                     11.40                0.70            0.28   \n",
      "26                     12.00                1.20            0.70   \n",
      "27                      5.50                0.80            0.40   \n",
      "28                      3.90                0.90            0.20   \n",
      "29                      0.00                0.00            0.00   \n",
      "30                      8.00                0.60            0.20   \n",
      "\n",
      "    nutritions.calories  nutritions.sugar  \n",
      "0                    52             10.30  \n",
      "1                    15              3.20  \n",
      "2                    96             17.20  \n",
      "3                    40              4.50  \n",
      "4                    29              5.40  \n",
      "5                    50              8.00  \n",
      "6                   147              6.75  \n",
      "7                    74             16.00  \n",
      "8                    44              0.00  \n",
      "9                    69             15.48  \n",
      "10                   21              6.40  \n",
      "11                   68              9.00  \n",
      "12                   61              9.00  \n",
      "13                   29              2.50  \n",
      "14                   25              1.70  \n",
      "15                   50              5.74  \n",
      "16                   66             15.00  \n",
      "17                   60             13.70  \n",
      "18                   34              8.00  \n",
      "19                   43              8.20  \n",
      "20                   43              1.00  \n",
      "21                   97             11.20  \n",
      "22                   57             10.00  \n",
      "23                   81             18.00  \n",
      "24                   50              9.85  \n",
      "25                   46              9.92  \n",
      "26                   53              4.40  \n",
      "27                   29              5.40  \n",
      "28                   74              2.60  \n",
      "29                    0              0.00  \n",
      "30                   30              6.00  \n"
     ]
    },
    {
     "data": {
      "text/plain": [
       "('Rosaceae', 'Prunus')"
      ]
     },
     "execution_count": 9,
     "metadata": {},
     "output_type": "execute_result"
    }
   ],
   "source": [
    "import requests\n",
    "import json\n",
    "\n",
    "data = requests.get(\"https://www.fruityvice.com/api/fruit/all\")\n",
    "\n",
    "results = json.loads(data.text)\n",
    "\n",
    "pd.DataFrame(results)\n",
    "df2 = pd.json_normalize(results)\n",
    "\n",
    "print(df2)\n",
    "\n",
    "cherry = df2.loc[df2[\"name\"] == 'Cherry']\n",
    "(cherry.iloc[0]['family']) , (cherry.iloc[0]['genus'])"
   ]
  },
  {
   "cell_type": "code",
   "execution_count": 11,
   "metadata": {},
   "outputs": [
    {
     "name": "stdout",
     "output_type": "stream",
     "text": [
      "Calories in banana:  96\n"
     ]
    }
   ],
   "source": [
    "# NOW, GETTING HOW MANY CALORIES IN BANANA\n",
    "\n",
    "banana = df2.loc[df2[\"name\"] == 'Banana']\n",
    "\n",
    "print(\"Calories in banana: \", banana.iloc[0]['nutritions.calories'])"
   ]
  },
  {
   "cell_type": "markdown",
   "metadata": {},
   "source": [
    "EXERCISE 3"
   ]
  },
  {
   "cell_type": "code",
   "execution_count": 16,
   "metadata": {},
   "outputs": [
    {
     "name": "stdout",
     "output_type": "stream",
     "text": [
      "                                                data\n",
      "0  Cats that live together sometimes rub each oth...\n",
      "1  The way you treat kittens in the early stages ...\n",
      "2  Contrary to popular belief, the cat is a socia...\n"
     ]
    }
   ],
   "source": [
    "# GETTING VALUES FROM URL\n",
    "\n",
    "myUrl='https://meowfacts.herokuapp.com/?count=3'\n",
    "newData=requests.get(myUrl)\n",
    "\n",
    "# RETRIEVING VALUES WITH JSON LOADS\n",
    "results2 = json.loads(newData.text)\n",
    "\n",
    "# CONVERTING INTO PANDAS DATAFRAME\n",
    "newDF = pd.DataFrame(results2)\n",
    "\n",
    "print(newDF)\n"
   ]
  },
  {
   "cell_type": "code",
   "execution_count": null,
   "metadata": {},
   "outputs": [],
   "source": []
  }
 ],
 "metadata": {
  "kernelspec": {
   "display_name": "Python 3.10.4 64-bit",
   "language": "python",
   "name": "python3"
  },
  "language_info": {
   "codemirror_mode": {
    "name": "ipython",
    "version": 3
   },
   "file_extension": ".py",
   "mimetype": "text/x-python",
   "name": "python",
   "nbconvert_exporter": "python",
   "pygments_lexer": "ipython3",
   "version": "3.10.4"
  },
  "orig_nbformat": 4,
  "vscode": {
   "interpreter": {
    "hash": "dbf227170861aa35de2ea8c890cc2cfec69ae9586cdab632ac506279a0aac556"
   }
  }
 },
 "nbformat": 4,
 "nbformat_minor": 2
}
