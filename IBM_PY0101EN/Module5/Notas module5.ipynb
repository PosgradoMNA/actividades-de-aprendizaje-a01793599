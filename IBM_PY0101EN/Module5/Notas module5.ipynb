{
 "cells": [
  {
   "cell_type": "markdown",
   "metadata": {},
   "source": [
    "# Instituto Tecnológico de Monterrey\n",
    "# Ciencia y analítica de datos\n",
    "# A01793599 Gustavo René Ramos Ojeda\n",
    "\n",
    "# Módulo 5 - Notas del alumno"
   ]
  },
  {
   "cell_type": "markdown",
   "metadata": {},
   "source": [
    "Notas para las actividades del módulo 5\n",
    "\n",
    "1. El primer ejercicio sobre Numpy Arrays de 1D no es tan retador ya que lleva un principio muy similar al uso de las listas, claro que se aprovecha la propiedad de que sea mutable.\n",
    "\n",
    "2. El segundo ejercicio sobre Arrays en 2D fue un poco confuso pero sirve la práctica de los slicings. \n",
    "\n",
    "3. El ejercicio de HTTP fue bueno porque comparativamente con otros lenguajes, resultó excesivamente sencillo postear y conseguir información.\n",
    "\n",
    "4. El manejo de APIs también es claro, definitivamente se reduce demasiado el código y realmente es muy potente este lenguaje."
   ]
  }
 ],
 "metadata": {
  "kernelspec": {
   "display_name": "Python 3.10.4 64-bit",
   "language": "python",
   "name": "python3"
  },
  "language_info": {
   "name": "python",
   "version": "3.10.4"
  },
  "orig_nbformat": 4,
  "vscode": {
   "interpreter": {
    "hash": "dbf227170861aa35de2ea8c890cc2cfec69ae9586cdab632ac506279a0aac556"
   }
  }
 },
 "nbformat": 4,
 "nbformat_minor": 2
}
