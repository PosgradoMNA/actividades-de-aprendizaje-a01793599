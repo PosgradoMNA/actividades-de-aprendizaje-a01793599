{
 "cells": [
  {
   "cell_type": "markdown",
   "metadata": {},
   "source": [
    "Quiz on strings"
   ]
  },
  {
   "cell_type": "code",
   "execution_count": 1,
   "metadata": {},
   "outputs": [
    {
     "name": "stdout",
     "output_type": "stream",
     "text": [
      "12\n"
     ]
    }
   ],
   "source": [
    "# Value of a = \"1\"; b = \"2\" and c = a + b\n",
    "\n",
    "a = \"1\" \n",
    "b = \"2\"\n",
    "\n",
    "c = a + b\n",
    "print(c) #Must return \"12\""
   ]
  },
  {
   "cell_type": "code",
   "execution_count": 2,
   "metadata": {},
   "outputs": [
    {
     "name": "stdout",
     "output_type": "stream",
     "text": [
      "ABC\n"
     ]
    }
   ],
   "source": [
    "# Slice variable d for first 3 elements\n",
    "\n",
    "d = \"ABCDEFG\"\n",
    "\n",
    "print( d[0:3] )"
   ]
  },
  {
   "cell_type": "code",
   "execution_count": 3,
   "metadata": {},
   "outputs": [
    {
     "name": "stdout",
     "output_type": "stream",
     "text": [
      "correct\n"
     ]
    }
   ],
   "source": [
    "#Stride e every second character\n",
    "e = \"clocrkr1e1c1t\"\n",
    "\n",
    "print( e[::2])"
   ]
  },
  {
   "cell_type": "code",
   "execution_count": 5,
   "metadata": {},
   "outputs": [
    {
     "name": "stdout",
     "output_type": "stream",
     "text": [
      " \\ \n",
      " \\ \n"
     ]
    }
   ],
   "source": [
    "#Print a backslash\n",
    "\n",
    "print(\" \\\\ \")\n",
    "print(r\" \\ \")"
   ]
  },
  {
   "cell_type": "code",
   "execution_count": 6,
   "metadata": {},
   "outputs": [
    {
     "name": "stdout",
     "output_type": "stream",
     "text": [
      "SOME TEXT\n"
     ]
    }
   ],
   "source": [
    "# Convert f to uppercase\n",
    "\n",
    "f = \"some text\"\n",
    "\n",
    "print( f.upper())"
   ]
  },
  {
   "cell_type": "code",
   "execution_count": 10,
   "metadata": {},
   "outputs": [
    {
     "name": "stdout",
     "output_type": "stream",
     "text": [
      "Index for snow: 95\n",
      "String replaced: \n",
      "Bob had a little lamb Little lamb, little lamb Bob had a little lamb Its fleece was white as snow And everywhere that Bob went Bob went, Bob went Everywhere that Bob went The lamb was sure to go\n"
     ]
    }
   ],
   "source": [
    "# Find the first index of substring snow\n",
    "\n",
    "g = \"Mary had a little lamb Little lamb, little lamb Mary had a little lamb \\\n",
    "Its fleece was white as snow And everywhere that Mary went Mary went, Mary went \\\n",
    "Everywhere that Mary went The lamb was sure to go\"\n",
    "\n",
    "print( \"Index for snow: \" + str(g.find(\"snow\")))\n",
    "\n",
    "#then replace \"Mary\" with \"Bob\"\n",
    "\n",
    "newG = g.replace(\"Mary\", \"Bob\")\n",
    "print( \"String replaced: \\n\" + newG )"
   ]
  }
 ],
 "metadata": {
  "kernelspec": {
   "display_name": "Python 3.10.4 64-bit",
   "language": "python",
   "name": "python3"
  },
  "language_info": {
   "codemirror_mode": {
    "name": "ipython",
    "version": 3
   },
   "file_extension": ".py",
   "mimetype": "text/x-python",
   "name": "python",
   "nbconvert_exporter": "python",
   "pygments_lexer": "ipython3",
   "version": "3.10.4"
  },
  "orig_nbformat": 4,
  "vscode": {
   "interpreter": {
    "hash": "dbf227170861aa35de2ea8c890cc2cfec69ae9586cdab632ac506279a0aac556"
   }
  }
 },
 "nbformat": 4,
 "nbformat_minor": 2
}
