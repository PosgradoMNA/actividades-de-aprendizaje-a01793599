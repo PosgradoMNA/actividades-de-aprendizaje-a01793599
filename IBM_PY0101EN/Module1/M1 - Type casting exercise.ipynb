{
 "cells": [
  {
   "cell_type": "code",
   "execution_count": 2,
   "metadata": {},
   "outputs": [
    {
     "name": "stdout",
     "output_type": "stream",
     "text": [
      "<class 'str'>\n",
      "<class 'str'>\n",
      "True\n",
      "0\n"
     ]
    }
   ],
   "source": [
    "#Using type\n",
    "print(type(\"Hello World\"))\n",
    "\n",
    "#Getting value from String \"1.1\"\n",
    "print(type(\"1.1\"))\n",
    "\n",
    "#Casting bool to int and back\n",
    "print(bool(1))\n",
    "print(int(False))"
   ]
  }
 ],
 "metadata": {
  "kernelspec": {
   "display_name": "Python 3.10.4 64-bit",
   "language": "python",
   "name": "python3"
  },
  "language_info": {
   "codemirror_mode": {
    "name": "ipython",
    "version": 3
   },
   "file_extension": ".py",
   "mimetype": "text/x-python",
   "name": "python",
   "nbconvert_exporter": "python",
   "pygments_lexer": "ipython3",
   "version": "3.10.4"
  },
  "orig_nbformat": 4,
  "vscode": {
   "interpreter": {
    "hash": "dbf227170861aa35de2ea8c890cc2cfec69ae9586cdab632ac506279a0aac556"
   }
  }
 },
 "nbformat": 4,
 "nbformat_minor": 2
}
