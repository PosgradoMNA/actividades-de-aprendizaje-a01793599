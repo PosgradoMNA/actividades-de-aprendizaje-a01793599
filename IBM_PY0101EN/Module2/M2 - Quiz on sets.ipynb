{
 "cells": [
  {
   "cell_type": "markdown",
   "metadata": {},
   "source": [
    "Quiz on sets"
   ]
  },
  {
   "cell_type": "code",
   "execution_count": 1,
   "metadata": {},
   "outputs": [
    {
     "name": "stdout",
     "output_type": "stream",
     "text": [
      "{'electronic music', 'house', 'rap'}\n"
     ]
    }
   ],
   "source": [
    "# Convert the list to a set\n",
    "\n",
    "myList = ['rap','house','electronic music', 'rap']\n",
    "\n",
    "mySet = set(myList)\n",
    "\n",
    "print( mySet )"
   ]
  },
  {
   "cell_type": "code",
   "execution_count": 3,
   "metadata": {},
   "outputs": [
    {
     "name": "stdout",
     "output_type": "stream",
     "text": [
      "Are those equal?? : False\n",
      "listA : 6\n",
      "setB  : 3\n"
     ]
    }
   ],
   "source": [
    "# Verify if sum(listA) == sum(setB)\n",
    "\n",
    "listA = [1, 2, 2, 1]\n",
    "setB = set([1, 2, 2, 1])\n",
    "\n",
    "print( \"Are those equal?? : \" + str(sum(listA) == sum(setB)))\n",
    "print( \"listA : \" + str(sum(listA)))\n",
    "print( \"setB  : \" + str(sum(setB)))"
   ]
  },
  {
   "cell_type": "code",
   "execution_count": 4,
   "metadata": {},
   "outputs": [
    {
     "name": "stdout",
     "output_type": "stream",
     "text": [
      "{'The Dark Side of the Moon', 'Thriller', 'Back in Black', 'AC/DC'}\n"
     ]
    }
   ],
   "source": [
    "#Create new set with the union between set1 and set2\n",
    "\n",
    "album_set1 = set([\"Thriller\", 'AC/DC', 'Back in Black'])\n",
    "album_set2 = set([ \"AC/DC\", \"Back in Black\", \"The Dark Side of the Moon\"])\n",
    "\n",
    "set3 = album_set1.union( album_set2 )\n",
    "\n",
    "print(set3)"
   ]
  },
  {
   "cell_type": "code",
   "execution_count": 5,
   "metadata": {},
   "outputs": [
    {
     "name": "stdout",
     "output_type": "stream",
     "text": [
      "True\n"
     ]
    }
   ],
   "source": [
    "# Find out if album_set1 is in set3\n",
    "\n",
    "print( album_set1.issubset( set3 ))"
   ]
  }
 ],
 "metadata": {
  "kernelspec": {
   "display_name": "Python 3.10.4 64-bit",
   "language": "python",
   "name": "python3"
  },
  "language_info": {
   "codemirror_mode": {
    "name": "ipython",
    "version": 3
   },
   "file_extension": ".py",
   "mimetype": "text/x-python",
   "name": "python",
   "nbconvert_exporter": "python",
   "pygments_lexer": "ipython3",
   "version": "3.10.4"
  },
  "orig_nbformat": 4,
  "vscode": {
   "interpreter": {
    "hash": "dbf227170861aa35de2ea8c890cc2cfec69ae9586cdab632ac506279a0aac556"
   }
  }
 },
 "nbformat": 4,
 "nbformat_minor": 2
}
