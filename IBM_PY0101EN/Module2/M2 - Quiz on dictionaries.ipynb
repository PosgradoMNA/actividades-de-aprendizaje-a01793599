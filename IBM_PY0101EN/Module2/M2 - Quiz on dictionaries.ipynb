{
 "cells": [
  {
   "cell_type": "markdown",
   "metadata": {},
   "source": [
    "Quiz on dictionaries"
   ]
  },
  {
   "cell_type": "code",
   "execution_count": 3,
   "metadata": {},
   "outputs": [
    {
     "name": "stdout",
     "output_type": "stream",
     "text": [
      "dict_keys(['The Bodyguard', 'Saturday Night Fever'])\n",
      "dict_values(['1992', '1977'])\n"
     ]
    }
   ],
   "source": [
    "# Defining the dictionary\n",
    "\n",
    "soundtrack_dic = {\"The Bodyguard\":\"1992\", \"Saturday Night Fever\":\"1977\"}\n",
    "\n",
    "# What are the keys??\n",
    "\n",
    "print( soundtrack_dic.keys() )\n",
    "\n",
    "#What are the values??\n",
    "\n",
    "print( soundtrack_dic.values() )"
   ]
  },
  {
   "cell_type": "code",
   "execution_count": 9,
   "metadata": {},
   "outputs": [
    {
     "name": "stdout",
     "output_type": "stream",
     "text": [
      "Sales for Thriller: 65\n",
      "dict_keys(['Back in Black', 'The Bodyguard', 'Thriller'])\n",
      "dict_values([50, 50, 65])\n"
     ]
    }
   ],
   "source": [
    "# Define dictionary for recording sales in millions\n",
    "\n",
    "album_sales_dict =  {\"Back in Black\":50, \"The Bodyguard\":50, \"Thriller\":65}\n",
    "\n",
    "\n",
    "# Find sales for Thriller\n",
    "print( \"Sales for Thriller: \" + str(album_sales_dict[\"Thriller\"]))\n",
    "\n",
    "# keys\n",
    "print( album_sales_dict.keys() )\n",
    "\n",
    "#values\n",
    "print( album_sales_dict.values() )"
   ]
  }
 ],
 "metadata": {
  "kernelspec": {
   "display_name": "Python 3.10.4 64-bit",
   "language": "python",
   "name": "python3"
  },
  "language_info": {
   "codemirror_mode": {
    "name": "ipython",
    "version": 3
   },
   "file_extension": ".py",
   "mimetype": "text/x-python",
   "name": "python",
   "nbconvert_exporter": "python",
   "pygments_lexer": "ipython3",
   "version": "3.10.4"
  },
  "orig_nbformat": 4,
  "vscode": {
   "interpreter": {
    "hash": "dbf227170861aa35de2ea8c890cc2cfec69ae9586cdab632ac506279a0aac556"
   }
  }
 },
 "nbformat": 4,
 "nbformat_minor": 2
}
