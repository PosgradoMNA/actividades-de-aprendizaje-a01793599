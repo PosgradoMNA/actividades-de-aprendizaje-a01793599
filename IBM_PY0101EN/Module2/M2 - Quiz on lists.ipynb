{
 "cells": [
  {
   "cell_type": "markdown",
   "metadata": {},
   "source": [
    "Quiz on List"
   ]
  },
  {
   "cell_type": "code",
   "execution_count": 1,
   "metadata": {},
   "outputs": [
    {
     "name": "stdout",
     "output_type": "stream",
     "text": [
      "[1, 'hello', [1, 2, 3], True]\n"
     ]
    }
   ],
   "source": [
    "# Create a list myList with elements 1, hello, [1,2,3] and True.\n",
    "\n",
    "myList = [ 1, \"hello\", [1, 2, 3], True ]\n",
    "\n",
    "print(myList)"
   ]
  },
  {
   "cell_type": "code",
   "execution_count": 2,
   "metadata": {},
   "outputs": [
    {
     "name": "stdout",
     "output_type": "stream",
     "text": [
      "hello\n"
     ]
    }
   ],
   "source": [
    "# Find value of index 1\n",
    "\n",
    "print( myList[1] ) "
   ]
  },
  {
   "cell_type": "code",
   "execution_count": 3,
   "metadata": {},
   "outputs": [
    {
     "name": "stdout",
     "output_type": "stream",
     "text": [
      "['hello', [1, 2, 3], True]\n"
     ]
    }
   ],
   "source": [
    "# Retrieve index 1, 2, 3\n",
    "\n",
    "print( myList[1:4])"
   ]
  },
  {
   "cell_type": "code",
   "execution_count": 7,
   "metadata": {},
   "outputs": [
    {
     "name": "stdout",
     "output_type": "stream",
     "text": [
      "[1, 'a', 2, 1, 'd']\n",
      "[1, 'a', 2, 1, 'd']\n"
     ]
    }
   ],
   "source": [
    "#Concatenate Lists A and B   A = [1, 'a']  B = [2, 1, 'd']\n",
    "\n",
    "listA = [1, 'a']  \n",
    "listB = [2, 1, 'd']\n",
    "\n",
    "listC = listA + listB\n",
    "listA.extend( listB)\n",
    "\n",
    "print(listA)\n",
    "\n",
    "print(listC)"
   ]
  }
 ],
 "metadata": {
  "kernelspec": {
   "display_name": "Python 3.10.4 64-bit",
   "language": "python",
   "name": "python3"
  },
  "language_info": {
   "codemirror_mode": {
    "name": "ipython",
    "version": 3
   },
   "file_extension": ".py",
   "mimetype": "text/x-python",
   "name": "python",
   "nbconvert_exporter": "python",
   "pygments_lexer": "ipython3",
   "version": "3.10.4"
  },
  "orig_nbformat": 4,
  "vscode": {
   "interpreter": {
    "hash": "dbf227170861aa35de2ea8c890cc2cfec69ae9586cdab632ac506279a0aac556"
   }
  }
 },
 "nbformat": 4,
 "nbformat_minor": 2
}
