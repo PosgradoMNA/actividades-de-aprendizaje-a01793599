{
 "cells": [
  {
   "cell_type": "code",
   "execution_count": 2,
   "metadata": {},
   "outputs": [
    {
     "name": "stdout",
     "output_type": "stream",
     "text": [
      "5\n"
     ]
    }
   ],
   "source": [
    "# Divide 2 numbers\n",
    "\n",
    "\n",
    "def divideFirstBySecond(a, b):\n",
    "    return a//b\n",
    "\n",
    "c=divideFirstBySecond(10, 2)\n",
    "\n",
    "print(c)"
   ]
  },
  {
   "cell_type": "code",
   "execution_count": 9,
   "metadata": {},
   "outputs": [
    {
     "name": "stdout",
     "output_type": "stream",
     "text": [
      "3\n",
      "just testing\n",
      "(1, 'just ', 2, 'testing')\n",
      "[3, 'another ', 4, 'test']\n"
     ]
    }
   ],
   "source": [
    "# Use function con\n",
    "\n",
    "def con(a, b):\n",
    "    return(a + b)\n",
    "\n",
    "#Adding 2 numbers\n",
    "print( con(1,2) )\n",
    "\n",
    "#Adding 2 strings\n",
    "print( con(\"just \", \"testing\"))\n",
    "\n",
    "#Adding 2 tuples\n",
    "print( con((1, \"just \"), (2, \"testing\")) )\n",
    "\n",
    "#Adding 2 lists\n",
    "print( con([3, \"another \"], [4, \"test\"]) ) \n"
   ]
  }
 ],
 "metadata": {
  "kernelspec": {
   "display_name": "Python 3.10.4 64-bit",
   "language": "python",
   "name": "python3"
  },
  "language_info": {
   "codemirror_mode": {
    "name": "ipython",
    "version": 3
   },
   "file_extension": ".py",
   "mimetype": "text/x-python",
   "name": "python",
   "nbconvert_exporter": "python",
   "pygments_lexer": "ipython3",
   "version": "3.10.4"
  },
  "orig_nbformat": 4,
  "vscode": {
   "interpreter": {
    "hash": "dbf227170861aa35de2ea8c890cc2cfec69ae9586cdab632ac506279a0aac556"
   }
  }
 },
 "nbformat": 4,
 "nbformat_minor": 2
}
