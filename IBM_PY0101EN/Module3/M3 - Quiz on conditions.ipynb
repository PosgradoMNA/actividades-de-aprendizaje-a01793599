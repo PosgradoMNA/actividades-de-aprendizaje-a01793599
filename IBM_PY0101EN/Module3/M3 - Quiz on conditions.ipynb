{
 "cells": [
  {
   "cell_type": "markdown",
   "metadata": {},
   "source": [
    "Quiz on conditions"
   ]
  },
  {
   "cell_type": "code",
   "execution_count": 1,
   "metadata": {},
   "outputs": [
    {
     "name": "stdout",
     "output_type": "stream",
     "text": [
      "The album is amazing\n"
     ]
    }
   ],
   "source": [
    "# IF statement for rating\n",
    "\n",
    "rating_BinB = 8.5\n",
    "if rating_BinB > 8:\n",
    "    print(\"The album is amazing\")"
   ]
  },
  {
   "cell_type": "code",
   "execution_count": 4,
   "metadata": {},
   "outputs": [
    {
     "name": "stdout",
     "output_type": "stream",
     "text": [
      "The album is ok\n"
     ]
    }
   ],
   "source": [
    "#IF-ELSE statement for rating\n",
    "\n",
    "rating_BinB = 8.5\n",
    "rating_other = 7.6\n",
    "if rating_other > 8:\n",
    "    print(\"The album is amazing\")\n",
    "else:\n",
    "    print(\"The album is ok\")"
   ]
  },
  {
   "cell_type": "code",
   "execution_count": 6,
   "metadata": {},
   "outputs": [
    {
     "name": "stdout",
     "output_type": "stream",
     "text": [
      "Album release was on year:  1976\n"
     ]
    }
   ],
   "source": [
    "# Other if statemente for dateyear\n",
    "\n",
    "releaseYear = 1976\n",
    "if releaseYear < 1980 or releaseYear == 1991 or releaseYear == 1993:\n",
    "    print(\"Album release was on year: \", releaseYear)"
   ]
  }
 ],
 "metadata": {
  "kernelspec": {
   "display_name": "Python 3.10.4 64-bit",
   "language": "python",
   "name": "python3"
  },
  "language_info": {
   "codemirror_mode": {
    "name": "ipython",
    "version": 3
   },
   "file_extension": ".py",
   "mimetype": "text/x-python",
   "name": "python",
   "nbconvert_exporter": "python",
   "pygments_lexer": "ipython3",
   "version": "3.10.4"
  },
  "orig_nbformat": 4,
  "vscode": {
   "interpreter": {
    "hash": "dbf227170861aa35de2ea8c890cc2cfec69ae9586cdab632ac506279a0aac556"
   }
  }
 },
 "nbformat": 4,
 "nbformat_minor": 2
}
