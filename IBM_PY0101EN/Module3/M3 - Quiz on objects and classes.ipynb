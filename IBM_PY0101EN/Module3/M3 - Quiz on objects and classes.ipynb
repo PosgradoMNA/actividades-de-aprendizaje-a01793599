{
 "cells": [
  {
   "cell_type": "code",
   "execution_count": 12,
   "metadata": {},
   "outputs": [
    {
     "name": "stdout",
     "output_type": "stream",
     "text": [
      "Texto limpio:  hola amigos esta es una prueba de redundacia del curso de hola y de amigos hola hola hola  hola\n",
      "Frecuencia de palabras:  {'hola': 6, 'amigos': 2, 'esta': 1, 'es': 1, 'una': 1, 'prueba': 1, 'de': 3, 'redundacia': 1, 'del': 1, 'curso': 1, 'y': 1}\n",
      "Frecuencia de palabra particular (adios) :  0\n",
      "Frecuencia de palabra particular (hola) :  6\n"
     ]
    }
   ],
   "source": [
    "class analysedText(object):\n",
    "    \n",
    "\n",
    "    def __init__ (self, text):\n",
    "\n",
    "        self.fmtText = str(text).lower()\n",
    "        self.fmtText = self.fmtText.replace(\".\", \"\")\n",
    "        self.fmtText = self.fmtText.replace(\"!\", \"\")\n",
    "        self.fmtText = self.fmtText.replace(\",\", \"\")\n",
    "        self.fmtText = self.fmtText.replace(\"?\", \"\")\n",
    "    \n",
    "    def freqAll(self):    \n",
    "        self.newDict = {}\n",
    "\n",
    "        wordsList = self.fmtText.split()\n",
    "\n",
    "        for word in wordsList:\n",
    "            if word in self.newDict:\n",
    "                self.newDict[ word ] = self.newDict[ word ] + 1\n",
    "            else:\n",
    "                self.newDict[ word ] = 1\n",
    "        return self.newDict\n",
    "    \n",
    "    def freqOf(self, word):\n",
    "        self.freqAll()\n",
    "        if word in self.newDict:\n",
    "            return self.newDict[word]\n",
    "        else:\n",
    "            return 0\n",
    "\n",
    "        \n",
    "text = analysedText( \"Hola amigos, esta es una prueba de redundacia del curso de hola y de amigos hola hola hola!!! ??? hola,,,.!\")\n",
    "\n",
    "print( \"Texto limpio: \", text.fmtText )\n",
    "\n",
    "print( \"Frecuencia de palabras: \" , text.freqAll() )\n",
    "\n",
    "print( \"Frecuencia de palabra particular (adios) : \" , text.freqOf(\"adios\") )\n",
    "print( \"Frecuencia de palabra particular (hola) : \" , text.freqOf(\"hola\") )"
   ]
  }
 ],
 "metadata": {
  "kernelspec": {
   "display_name": "Python 3.10.4 64-bit",
   "language": "python",
   "name": "python3"
  },
  "language_info": {
   "codemirror_mode": {
    "name": "ipython",
    "version": 3
   },
   "file_extension": ".py",
   "mimetype": "text/x-python",
   "name": "python",
   "nbconvert_exporter": "python",
   "pygments_lexer": "ipython3",
   "version": "3.10.4"
  },
  "orig_nbformat": 4,
  "vscode": {
   "interpreter": {
    "hash": "dbf227170861aa35de2ea8c890cc2cfec69ae9586cdab632ac506279a0aac556"
   }
  }
 },
 "nbformat": 4,
 "nbformat_minor": 2
}
