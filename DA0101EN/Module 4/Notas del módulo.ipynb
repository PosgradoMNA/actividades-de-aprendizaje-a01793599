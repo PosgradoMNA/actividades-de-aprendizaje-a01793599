{
 "cells": [
  {
   "cell_type": "markdown",
   "metadata": {},
   "source": [
    "# Instituto Tecnológico de Monterrey\n",
    "# Ciencia y analítica de datos\n",
    "# A01793599 Gustavo René Ramos Ojeda\n",
    "\n",
    "# Módulo 4 - Notas del alumno"
   ]
  },
  {
   "cell_type": "markdown",
   "metadata": {},
   "source": [
    "Notas para las actividades del módulo 4\n",
    "\n",
    "1. En el módulo 4 se inicia el análisis sobre el desarrollo de modelos aplicables a un conjunto de datos, entre ellos la regresión lineal simple y múltiple, también las prácticas de visualización y las mecánicas referente a la regresión polinomial y al uso de Pipelines para evitar la desviación de la información.\n",
    "2. Adicionalmente se habla sobre la importancia de las métricas de error RSquared y MSE, para finalmente establecer un modelo de predicción que permita la toma de decisiones.\n",
    "3. El uso de las características más relevantes de un set de datos permiten obtener un modelo predictivo más preciso.\n",
    "4. La regresión lineal simple consiste en que la variable independiente es solo una, mientras que la regresión lineal múltiple considera varias variables independientes.\n",
    "5. Por definición la regresión lineal simple establece la relación entre la variable de predicción (independiente) X y la variable destino (dependiente) Y. \n",
    "6. Como premisa del desarrollo de un modelo se deben considerar 2 pasos, el primer paso consiste en realizar el FIT de los datos para que se establezcan los pares de datos que permitirán entrenar al modelo, el segundo paso consiste en realizar la predicción a través del conjunto entrenado por el FIT.\n",
    "7. Una vez realizado un modelo de regresión, se puede obtener el coeficiente b0 que es la interseción donde x=0, adicionalmente podemos obtener los coeficientes de Xn, donde n es el número de variables independientes que forman el modelo, 1 para un modelo simple y 2 o más para un modelo múltiple.\n",
    "8. Para la visualización podemos utilizar primeramente un Plot de regresión que nos permite observar el modelo a través de la variable independiente y la variable dependiente. Para poder observar el comportamiento de los residuos se puede generar un Plot de residuos para ver el margen entre los errores y los valores actuales del set de datos, esto permite ver el comportamiento de los datos y determinar si estamos hablando de un modelo de respuesta lineal o si requerimos algún modelo cuadrático o de otro tipo.\n",
    "9. El Plot de distribución permite conocer la relación entre los valores actuales y los valores de la predicción, esto es muy útil para ver modelos con múltiples variables independientes\n",
    "10. Un modelo de regresión polinomial es útil para describir modelos con relaciones curvilineas, por ejemplo una ecuación cuadrática, cúbica o de mayor órden.\n",
    "11. Con el objetivo de simplificar tareas se utilizan métodos de normalización y estandarización tales como un StandarScaler que permite realizar el FIT y transformar conjuntos en modelos polinomiales.\n",
    "12. Un pipeline es un elemento que permite automatizar un flujo de transformaciones y aplicar al final un modelo de predicción.\n",
    "13. MSE es una función que permite evaluar un modelo al medir la diferencia entre el valor actual y el valor predicho y así determinar que tan bueno es el modelo. El caso de RSquared tiene la misma función, aunque a éste se le conoce también como el coeficiente de determinación ya que permite observar qué tan cerca está el modelo a la línea de regresión, mientras más cerca a 1 quiere decir que el modelo está bien entrenado.\n"
   ]
  }
 ],
 "metadata": {
  "kernelspec": {
   "display_name": "Python 3.10.4 64-bit",
   "language": "python",
   "name": "python3"
  },
  "language_info": {
   "name": "python",
   "version": "3.10.4"
  },
  "orig_nbformat": 4,
  "vscode": {
   "interpreter": {
    "hash": "2b5fefa4ed23b55a8f4c6671f286f80cea486c8766280da122d0e278ca47357c"
   }
  }
 },
 "nbformat": 4,
 "nbformat_minor": 2
}
