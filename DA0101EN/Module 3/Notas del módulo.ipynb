{
 "cells": [
  {
   "cell_type": "markdown",
   "metadata": {},
   "source": [
    "# Instituto Tecnológico de Monterrey\n",
    "# Ciencia y analítica de datos\n",
    "# A01793599 Gustavo René Ramos Ojeda\n",
    "\n",
    "# Módulo 3 - Notas del alumno"
   ]
  },
  {
   "cell_type": "markdown",
   "metadata": {},
   "source": [
    "Notas para las actividades del módulo 3\n",
    "\n",
    "1. El módulo trata sobre al análisis exploratorio de datos, permite ver sus características, entender mejor el conjunto de datos, distingir las relaciones entre variables y extraer las más importantes.\n",
    "2. Sobre algunos métodos para obtener estadísticas descriptivas encontramos los métodos del Dataframe: describe() y value_counts() para determinar valores que nos enseñen sobre nuestros datos así como unas métricas númericas que nos ayuden a conocer básicamente la distribución de los mismos.\n",
    "3. El uso de los Boxplots también ayuda a ver las distribuciones de los datos, ya que desde ahí se puede identificar desde outliers hasta la mediana del conjunto de datos.\n",
    "4. Por otro lado el uso del Scatter Plot es otro mecanismo para visualizar la forma en la que se relacionan los datos sobre los ejes X y Y, con lo cual se podrían distinguir posibles relaciones lineales entre las variables.\n",
    "5. El método de GroupBy nos permite agrupar en categorías las variables con dicha naturaleza. El método de Pivot() mientras tanto nos permitirá desplegar una tabulación de 2 variables, una desplegandola como columna y otra como renglones relacionados. Finalmente se puede utilizar un mapa de calor para poder visualizar la relación de una variable con respecto a otras tantas variables.\n",
    "6. El método de Anova que significa Análisis de variación, nos permite identificar la correlación en grupos de una variable categorica, la cual se determina como una relación fuerte si la variable F-test es grande y la variable p-value es pequeña.\n",
    "7. La correlación de variables es una metrica que permite conocer que tanta interdependencia hay entre variables.\n",
    "8. La matriz de correlación de Pearson permite conocer a través de su coeficiente si hay relación positiva o negativa o ninguna relación. A través del p-value nos permite conocer la confiabilidad del resultado, desde ninguna certeza hasta fuerte certeza.\n"
   ]
  },
  {
   "cell_type": "markdown",
   "metadata": {},
   "source": []
  }
 ],
 "metadata": {
  "kernelspec": {
   "display_name": "Python 3.10.4 64-bit",
   "language": "python",
   "name": "python3"
  },
  "language_info": {
   "name": "python",
   "version": "3.10.4"
  },
  "orig_nbformat": 4,
  "vscode": {
   "interpreter": {
    "hash": "dbf227170861aa35de2ea8c890cc2cfec69ae9586cdab632ac506279a0aac556"
   }
  }
 },
 "nbformat": 4,
 "nbformat_minor": 2
}
