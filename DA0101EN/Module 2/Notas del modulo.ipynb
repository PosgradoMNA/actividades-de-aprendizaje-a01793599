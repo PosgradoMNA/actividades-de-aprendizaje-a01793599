{
 "cells": [
  {
   "cell_type": "markdown",
   "metadata": {},
   "source": [
    "# Instituto Tecnológico de Monterrey\n",
    "# Ciencia y analítica de datos\n",
    "# A01793599 Gustavo René Ramos Ojeda\n",
    "\n",
    "# Módulo 2 - Notas del alumno"
   ]
  },
  {
   "cell_type": "markdown",
   "metadata": {},
   "source": [
    "Notas para las actividades del módulo 2\n",
    "\n",
    "1. El módulo al inicio explica lo que es la limpieza de los datos, enfoncandose a la normalización y al como tratar los elementos que son nulos en la información. Adicionalmente explica cómo se identifica una serie de pandas y cómo se deberá manipular a través de dataframes.\n",
    "2. En el objeto Dataframe, se revisaron los métodos de reemplazo y la forma en la que se puede afectar una columna de forma completa a través del mismo dataframe. También se mencionó la importancia del método dtypes() para poder obtener los tipos de datos de los elemento y así, en caso de ser necesario utilizar el método de .astype() para realizar la conversión de dicho dato.\n",
    "3. La normalización se vuelve un mecanismo importante para homologar las dimensiones de los datos, lo que facilita posteriormente el análisis ya que evita que una o varias variables tengan mayor influencia que otras.\n",
    "4. Los métodos de normalización que permiten manejar los datos entre 0 y 1 son: Simple feature y Min-Max, mientras que Z-score (Standar score) realiza una normalización cercana a cero con un rango de +/- 3\n",
    "5. El método de Binning nos permite agrupar datos en rangos y nos permite convertir variables numéricas en variables categóricas.\n",
    "6. El objetivo de convertir variables categóricas en variables númericas parte del hecho que la mayoria de modelos estadísticos no pueden manejar datos de entrada como cadenas u objetos.  Con pandas se puede utilizar el método get_dummies() para convertir dichas variables categóricas en números."
   ]
  }
 ],
 "metadata": {
  "kernelspec": {
   "display_name": "Python 3.10.4 64-bit",
   "language": "python",
   "name": "python3"
  },
  "language_info": {
   "name": "python",
   "version": "3.10.4"
  },
  "orig_nbformat": 4,
  "vscode": {
   "interpreter": {
    "hash": "dbf227170861aa35de2ea8c890cc2cfec69ae9586cdab632ac506279a0aac556"
   }
  }
 },
 "nbformat": 4,
 "nbformat_minor": 2
}
