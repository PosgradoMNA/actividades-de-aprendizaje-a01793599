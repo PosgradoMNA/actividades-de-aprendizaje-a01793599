{
 "cells": [
  {
   "cell_type": "markdown",
   "metadata": {},
   "source": [
    "# Instituto Tecnológico de Monterrey\n",
    "# Ciencia y analítica de datos\n",
    "# A01793599 Gustavo René Ramos Ojeda\n",
    "\n",
    "# Módulo 5 - Notas del alumno"
   ]
  },
  {
   "cell_type": "markdown",
   "metadata": {},
   "source": [
    "Notas para las actividades del módulo 5\n",
    "\n",
    "1. En el módulo 5 se inicia con la evaluación de los modelos, con lo que nos permite saber si el modelo realiza bien los cálculos en el mundo real.\n",
    "2. Se deben de utilizar los valores de entrenamiento para construir el modelo y descubrir sus relaciones a través de la predicción.\n",
    "3. Después se debe utilizar los datos de entrenamiento para evaluar el rendimiento del modelo.\n",
    "4. Para poder identificar si un modelo está subentrenado o sobreentrenado se puede observar el comportamiento a través de sus gráficas donde se pueda ver el umbral de una métrica de error como MSE.\n",
    "5. Hay que seleccionar un umbral que minimice el score del error, lo que se tiene a la izquierda se considera subentrenado, lo que se tiene a la derecha se considera sobreentrenado.\n",
    "6. La función de GridSearch permite encontrar hiperparámetros para un modelo con pocas líneas de código esos parámetros sirven para encontrar los mejores valores posibles para un modelo y así aplicar un modelo ya bien configurado."
   ]
  }
 ],
 "metadata": {
  "kernelspec": {
   "display_name": "Python 3.10.4 64-bit",
   "language": "python",
   "name": "python3"
  },
  "language_info": {
   "name": "python",
   "version": "3.10.4"
  },
  "orig_nbformat": 4,
  "vscode": {
   "interpreter": {
    "hash": "2b5fefa4ed23b55a8f4c6671f286f80cea486c8766280da122d0e278ca47357c"
   }
  }
 },
 "nbformat": 4,
 "nbformat_minor": 2
}
